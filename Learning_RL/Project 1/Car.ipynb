{
 "cells": [
  {
   "cell_type": "code",
   "id": "initial_id",
   "metadata": {
    "collapsed": true,
    "ExecuteTime": {
     "end_time": "2024-12-20T08:32:14.709772Z",
     "start_time": "2024-12-20T08:32:14.704490Z"
    }
   },
   "source": "# pip install \"gymnasium[box2d]\" pyglet",
   "outputs": [],
   "execution_count": 1
  },
  {
   "metadata": {
    "ExecuteTime": {
     "end_time": "2024-12-20T08:32:17.921069Z",
     "start_time": "2024-12-20T08:32:14.715547Z"
    }
   },
   "cell_type": "code",
   "source": [
    "import gymnasium as gym\n",
    "from stable_baselines3 import PPO\n",
    "from stable_baselines3.common.vec_env import DummyVecEnv\n",
    "from stable_baselines3.common.evaluation import evaluate_policy\n",
    "import os\n",
    "import torch \n",
    "\n",
    "device = torch.device(\"mps\" if torch.mps.is_available() else \"cpu\")"
   ],
   "id": "ac55625ad9e198d",
   "outputs": [],
   "execution_count": 2
  },
  {
   "metadata": {
    "ExecuteTime": {
     "end_time": "2024-12-20T08:32:18.120846Z",
     "start_time": "2024-12-20T08:32:17.975376Z"
    }
   },
   "cell_type": "code",
   "source": [
    "enviorment_name = \"CarRacing-v3\"\n",
    "env = gym.make(enviorment_name, render_mode=\"human\")"
   ],
   "id": "85e4f7633d99021",
   "outputs": [],
   "execution_count": 3
  },
  {
   "metadata": {
    "ExecuteTime": {
     "end_time": "2024-12-20T08:32:18.808617Z",
     "start_time": "2024-12-20T08:32:18.124897Z"
    }
   },
   "cell_type": "code",
   "source": "env.reset()",
   "id": "74352702b94d8a2c",
   "outputs": [
    {
     "name": "stderr",
     "output_type": "stream",
     "text": [
      "2024-12-20 16:32:18.753 Python[12089:386545] +[IMKClient subclass]: chose IMKClient_Modern\n",
      "2024-12-20 16:32:18.753 Python[12089:386545] +[IMKInputSession subclass]: chose IMKInputSession_Modern\n"
     ]
    },
    {
     "data": {
      "text/plain": [
       "(array([[[0, 0, 0],\n",
       "         [0, 0, 0],\n",
       "         [0, 0, 0],\n",
       "         ...,\n",
       "         [0, 0, 0],\n",
       "         [0, 0, 0],\n",
       "         [0, 0, 0]],\n",
       " \n",
       "        [[0, 0, 0],\n",
       "         [0, 0, 0],\n",
       "         [0, 0, 0],\n",
       "         ...,\n",
       "         [0, 0, 0],\n",
       "         [0, 0, 0],\n",
       "         [0, 0, 0]],\n",
       " \n",
       "        [[0, 0, 0],\n",
       "         [0, 0, 0],\n",
       "         [0, 0, 0],\n",
       "         ...,\n",
       "         [0, 0, 0],\n",
       "         [0, 0, 0],\n",
       "         [0, 0, 0]],\n",
       " \n",
       "        ...,\n",
       " \n",
       "        [[0, 0, 0],\n",
       "         [0, 0, 0],\n",
       "         [0, 0, 0],\n",
       "         ...,\n",
       "         [0, 0, 0],\n",
       "         [0, 0, 0],\n",
       "         [0, 0, 0]],\n",
       " \n",
       "        [[0, 0, 0],\n",
       "         [0, 0, 0],\n",
       "         [0, 0, 0],\n",
       "         ...,\n",
       "         [0, 0, 0],\n",
       "         [0, 0, 0],\n",
       "         [0, 0, 0]],\n",
       " \n",
       "        [[0, 0, 0],\n",
       "         [0, 0, 0],\n",
       "         [0, 0, 0],\n",
       "         ...,\n",
       "         [0, 0, 0],\n",
       "         [0, 0, 0],\n",
       "         [0, 0, 0]]], dtype=uint8),\n",
       " {})"
      ]
     },
     "execution_count": 4,
     "metadata": {},
     "output_type": "execute_result"
    }
   ],
   "execution_count": 4
  },
  {
   "metadata": {
    "ExecuteTime": {
     "end_time": "2024-12-20T08:32:18.818455Z",
     "start_time": "2024-12-20T08:32:18.816123Z"
    }
   },
   "cell_type": "code",
   "source": "env.action_space",
   "id": "7cbd9893bfe78448",
   "outputs": [
    {
     "data": {
      "text/plain": [
       "Box([-1.  0.  0.], 1.0, (3,), float32)"
      ]
     },
     "execution_count": 5,
     "metadata": {},
     "output_type": "execute_result"
    }
   ],
   "execution_count": 5
  },
  {
   "metadata": {
    "ExecuteTime": {
     "end_time": "2024-12-20T08:32:18.829178Z",
     "start_time": "2024-12-20T08:32:18.826591Z"
    }
   },
   "cell_type": "code",
   "source": "env.observation_space",
   "id": "7f2a5c2484b76e69",
   "outputs": [
    {
     "data": {
      "text/plain": [
       "Box(0, 255, (96, 96, 3), uint8)"
      ]
     },
     "execution_count": 6,
     "metadata": {},
     "output_type": "execute_result"
    }
   ],
   "execution_count": 6
  },
  {
   "metadata": {
    "ExecuteTime": {
     "end_time": "2024-12-20T08:32:18.894371Z",
     "start_time": "2024-12-20T08:32:18.837180Z"
    }
   },
   "cell_type": "code",
   "source": [
    "env.reset()\n",
    "env.render() "
   ],
   "id": "86ced1126ee5ce87",
   "outputs": [],
   "execution_count": 7
  },
  {
   "metadata": {
    "ExecuteTime": {
     "end_time": "2024-12-20T08:34:10.432157Z",
     "start_time": "2024-12-20T08:32:18.898393Z"
    }
   },
   "cell_type": "code",
   "source": [
    "episodes = 5\n",
    "for episode in range(1, episodes + 1):\n",
    "    state = env.reset()\n",
    "    done = False\n",
    "    score = 0\n",
    "\n",
    "    while not done:\n",
    "        action = env.action_space.sample()\n",
    "        n_state, reward, terminated, truncated, info = env.step(action)\n",
    "        done = terminated or truncated\n",
    "        score += reward\n",
    "\n",
    "    print(f'Episode:{episode}, Score:{score}')\n",
    "env.close() "
   ],
   "id": "e515ebc408c2ab7f",
   "outputs": [
    {
     "name": "stdout",
     "output_type": "stream",
     "text": [
      "Episode:1, Score:-34.210526315789984\n",
      "Episode:2, Score:-33.333333333333805\n",
      "Episode:3, Score:-29.328621908127644\n",
      "Episode:4, Score:-41.17647058823595\n",
      "Episode:5, Score:-31.97278911564679\n"
     ]
    }
   ],
   "execution_count": 8
  },
  {
   "metadata": {
    "ExecuteTime": {
     "end_time": "2024-12-20T08:34:10.441475Z",
     "start_time": "2024-12-20T08:34:10.438465Z"
    }
   },
   "cell_type": "code",
   "source": [
    "env = gym.make(enviorment_name)\n",
    "env = DummyVecEnv([lambda: env])"
   ],
   "id": "ede5ae9ab077f7db",
   "outputs": [],
   "execution_count": 9
  },
  {
   "metadata": {
    "ExecuteTime": {
     "end_time": "2024-12-20T08:34:11.176978Z",
     "start_time": "2024-12-20T08:34:10.467893Z"
    }
   },
   "cell_type": "code",
   "source": [
    "log_path = os.path.join('Training', 'Logs')\n",
    "model = PPO(\"CnnPolicy\", env, verbose=1, tensorboard_log=log_path, device=device)\n"
   ],
   "id": "c48f0b10a9161714",
   "outputs": [
    {
     "name": "stdout",
     "output_type": "stream",
     "text": [
      "Using mps device\n",
      "Wrapping the env in a VecTransposeImage.\n"
     ]
    }
   ],
   "execution_count": 10
  },
  {
   "metadata": {
    "jupyter": {
     "is_executing": true
    },
    "ExecuteTime": {
     "start_time": "2024-12-20T08:34:43.721263Z"
    }
   },
   "cell_type": "code",
   "source": "model.learn(total_timesteps=400000)",
   "id": "8d02b150a6623bab",
   "outputs": [
    {
     "name": "stdout",
     "output_type": "stream",
     "text": [
      "Logging to Training/Logs/PPO_1\n",
      "-----------------------------\n",
      "| time/              |      |\n",
      "|    fps             | 130  |\n",
      "|    iterations      | 1    |\n",
      "|    time_elapsed    | 15   |\n",
      "|    total_timesteps | 2048 |\n",
      "-----------------------------\n"
     ]
    }
   ],
   "execution_count": null
  },
  {
   "metadata": {},
   "cell_type": "code",
   "outputs": [],
   "execution_count": null,
   "source": [
    "PPO_path = os.path.join('Training', 'Saved Models', 'PPO_model_CarRacing')\n",
    "model.save(PPO_path)"
   ],
   "id": "a5fa733a88d763b4"
  }
 ],
 "metadata": {
  "kernelspec": {
   "display_name": "Python 3",
   "language": "python",
   "name": "python3"
  },
  "language_info": {
   "codemirror_mode": {
    "name": "ipython",
    "version": 2
   },
   "file_extension": ".py",
   "mimetype": "text/x-python",
   "name": "python",
   "nbconvert_exporter": "python",
   "pygments_lexer": "ipython2",
   "version": "2.7.6"
  }
 },
 "nbformat": 4,
 "nbformat_minor": 5
}
