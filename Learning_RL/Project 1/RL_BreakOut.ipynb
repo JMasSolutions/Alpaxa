{
 "cells": [
  {
   "cell_type": "markdown",
   "id": "894e86be-a2c3-4d18-b6a2-bdbf1781e862",
   "metadata": {},
   "source": [
    "# 1. Import Dependencies"
   ]
  },
  {
   "cell_type": "code",
   "id": "00010cea-fbb7-448e-865c-a1342472691f",
   "metadata": {},
   "source": [
    "import gymnasium\n",
    "from stable_baselines3 import A2C\n",
    "from stable_baselines3.common.vec_env import VecFrameStack\n",
    "from stable_baselines3.common.evaluation import evaluate_policy\n",
    "from stable_baselines3.common.env_util import make_atari_env\n",
    "import os\n",
    "import torch"
   ],
   "outputs": [],
   "execution_count": null
  },
  {
   "cell_type": "code",
   "id": "92846633-b5ed-4197-a439-bd6fe0477238",
   "metadata": {},
   "source": [
    "device = torch.device(\"mps\" if torch.has_mps else \"cpu\")"
   ],
   "outputs": [],
   "execution_count": null
  },
  {
   "cell_type": "code",
   "id": "c6045299-c3d1-4f10-8000-bbe166e2428a",
   "metadata": {},
   "source": "",
   "outputs": [],
   "execution_count": null
  },
  {
   "cell_type": "code",
   "id": "44d9666e-e877-43c6-bc96-64769559f192",
   "metadata": {},
   "source": [],
   "outputs": [],
   "execution_count": null
  }
 ],
 "metadata": {
  "kernelspec": {
   "display_name": "Python 3 (ipykernel)",
   "language": "python",
   "name": "python3"
  },
  "language_info": {
   "codemirror_mode": {
    "name": "ipython",
    "version": 3
   },
   "file_extension": ".py",
   "mimetype": "text/x-python",
   "name": "python",
   "nbconvert_exporter": "python",
   "pygments_lexer": "ipython3",
   "version": "3.12.4"
  }
 },
 "nbformat": 4,
 "nbformat_minor": 5
}
