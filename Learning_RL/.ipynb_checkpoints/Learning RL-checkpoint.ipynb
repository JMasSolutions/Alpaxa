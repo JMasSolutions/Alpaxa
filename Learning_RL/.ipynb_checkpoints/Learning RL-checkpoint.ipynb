{
 "cells": [
  {
   "metadata": {},
   "cell_type": "markdown",
   "source": "# 1.Import Dependencies",
   "id": "287f97a07a8179f4"
  },
  {
   "cell_type": "code",
   "id": "initial_id",
   "metadata": {
    "collapsed": true
   },
   "source": [
    "import os\n",
    "import gymnasium\n",
    "from stable_baselines3 import PPO\n",
    "from stable_baselines3.common.vec_env import DummyVecEnv\n",
    "from stable_baselines3.common.evaluation import evaluate_policy"
   ],
   "outputs": [],
   "execution_count": null
  },
  {
   "metadata": {},
   "cell_type": "markdown",
   "source": "# 2. Load Environment",
   "id": "b32de1e03af6a0b9"
  },
  {
   "metadata": {},
   "cell_type": "code",
   "source": [
    "enviorment_name = 'CartPole-v1'\n",
    "env = gymnasium.make(enviorment_name)"
   ],
   "id": "ec3f639f5d95cd91",
   "outputs": [],
   "execution_count": null
  },
  {
   "metadata": {},
   "cell_type": "code",
   "source": [
    "episodes = 5 \n",
    "for episode in range(1, episodes+1):\n",
    "    state = env.reset()\n",
    "    done = False\n",
    "    score = 0\n",
    "    \n",
    "    while not done:\n",
    "        env.render()\n",
    "        action = env.action_space.sample()\n",
    "        n_state, reward, done, info = env.step(action)\n",
    "        score += reward\n",
    "    print(f'Episode:{episode}, Score:{score}')\n",
    "env.close()"
   ],
   "id": "8d514f166f9c4f84",
   "outputs": [],
   "execution_count": null
  },
  {
   "metadata": {
    "ExecuteTime": {
     "end_time": "2024-12-20T02:33:41.080599Z",
     "start_time": "2024-12-20T02:33:41.075094Z"
    }
   },
   "cell_type": "code",
   "source": "",
   "id": "5208f8ca5bee630b",
   "outputs": [
    {
     "data": {
      "text/plain": [
       "(array([ 0.00527733,  0.03403075, -0.00390238,  0.0112173 ], dtype=float32),\n",
       " {})"
      ]
     },
     "execution_count": 10,
     "metadata": {},
     "output_type": "execute_result"
    }
   ],
   "execution_count": 10
  }
 ],
 "metadata": {
  "kernelspec": {
   "display_name": "Python 3",
   "language": "python",
   "name": "python3"
  },
  "language_info": {
   "codemirror_mode": {
    "name": "ipython",
    "version": 2
   },
   "file_extension": ".py",
   "mimetype": "text/x-python",
   "name": "python",
   "nbconvert_exporter": "python",
   "pygments_lexer": "ipython2",
   "version": "2.7.6"
  }
 },
 "nbformat": 4,
 "nbformat_minor": 5
}
