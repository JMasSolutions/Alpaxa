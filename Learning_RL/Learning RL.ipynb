{
 "cells": [
  {
   "metadata": {},
   "cell_type": "markdown",
   "source": "# 1.Import Dependencies",
   "id": "287f97a07a8179f4"
  },
  {
   "cell_type": "code",
   "id": "initial_id",
   "metadata": {
    "collapsed": true,
    "ExecuteTime": {
     "end_time": "2024-12-20T03:28:38.645677Z",
     "start_time": "2024-12-20T03:28:38.643036Z"
    }
   },
   "source": [
    "import os\n",
    "import gymnasium\n",
    "from pandas_ta import total_time\n",
    "from stable_baselines3 import PPO\n",
    "from stable_baselines3.common.vec_env import DummyVecEnv\n",
    "from stable_baselines3.common.evaluation import evaluate_policy"
   ],
   "outputs": [],
   "execution_count": 47
  },
  {
   "metadata": {},
   "cell_type": "markdown",
   "source": "# 2. Load Environment",
   "id": "b32de1e03af6a0b9"
  },
  {
   "metadata": {
    "ExecuteTime": {
     "end_time": "2024-12-20T03:28:38.659754Z",
     "start_time": "2024-12-20T03:28:38.656871Z"
    }
   },
   "cell_type": "code",
   "source": [
    "environment_name = 'CartPole-v1'\n",
    "env = gymnasium.make(environment_name, render_mode=\"human\")"
   ],
   "id": "ec3f639f5d95cd91",
   "outputs": [],
   "execution_count": 48
  },
  {
   "metadata": {
    "ExecuteTime": {
     "end_time": "2024-12-20T03:28:38.667403Z",
     "start_time": "2024-12-20T03:28:38.665530Z"
    }
   },
   "cell_type": "code",
   "source": [
    "# episodes = 5\n",
    "# for episode in range(1, episodes + 1):\n",
    "#     state = env.reset()\n",
    "#     done = False\n",
    "#     score = 0\n",
    "# \n",
    "#     while not done:\n",
    "#         action = env.action_space.sample()\n",
    "#         n_state, reward, terminated, truncated, info = env.step(action)\n",
    "#         done = terminated or truncated\n",
    "#         score += reward\n",
    "# \n",
    "#     print(f'Episode:{episode}, Score:{score}')\n",
    "# env.close()"
   ],
   "id": "8d514f166f9c4f84",
   "outputs": [],
   "execution_count": 49
  },
  {
   "metadata": {},
   "cell_type": "markdown",
   "source": "# 3.Understanding the Environment",
   "id": "b41950eaed66cb00"
  },
  {
   "metadata": {
    "ExecuteTime": {
     "end_time": "2024-12-20T03:28:38.675106Z",
     "start_time": "2024-12-20T03:28:38.673054Z"
    }
   },
   "cell_type": "code",
   "source": "env.action_space",
   "id": "5208f8ca5bee630b",
   "outputs": [
    {
     "data": {
      "text/plain": [
       "Discrete(2)"
      ]
     },
     "execution_count": 50,
     "metadata": {},
     "output_type": "execute_result"
    }
   ],
   "execution_count": 50
  },
  {
   "metadata": {
    "ExecuteTime": {
     "end_time": "2024-12-20T03:28:38.689338Z",
     "start_time": "2024-12-20T03:28:38.686587Z"
    }
   },
   "cell_type": "code",
   "source": "env.action_space.sample()",
   "id": "49b3825a5bc85dbf",
   "outputs": [
    {
     "data": {
      "text/plain": [
       "1"
      ]
     },
     "execution_count": 51,
     "metadata": {},
     "output_type": "execute_result"
    }
   ],
   "execution_count": 51
  },
  {
   "metadata": {
    "ExecuteTime": {
     "end_time": "2024-12-20T03:28:38.701897Z",
     "start_time": "2024-12-20T03:28:38.699405Z"
    }
   },
   "cell_type": "code",
   "source": "env.observation_space.sample()",
   "id": "887f511dabe68de1",
   "outputs": [
    {
     "data": {
      "text/plain": [
       "array([ 3.5426612 ,  0.54937434, -0.26167846, -1.6856135 ], dtype=float32)"
      ]
     },
     "execution_count": 52,
     "metadata": {},
     "output_type": "execute_result"
    }
   ],
   "execution_count": 52
  },
  {
   "metadata": {},
   "cell_type": "markdown",
   "source": "# 4. Train Model",
   "id": "dc0acaa3c16162ab"
  },
  {
   "metadata": {
    "ExecuteTime": {
     "end_time": "2024-12-20T03:28:38.707933Z",
     "start_time": "2024-12-20T03:28:38.706405Z"
    }
   },
   "cell_type": "code",
   "source": "log_path = os.path.join('Training', 'Logs')\n",
   "id": "9ff51ba4c8167df1",
   "outputs": [],
   "execution_count": 53
  },
  {
   "metadata": {
    "ExecuteTime": {
     "end_time": "2024-12-20T03:28:38.715713Z",
     "start_time": "2024-12-20T03:28:38.714005Z"
    }
   },
   "cell_type": "code",
   "source": [
    "import torch\n",
    "\n",
    "# Check if MPS is available\n",
    "if torch.backends.mps.is_available():\n",
    "    device = torch.device(\"mps\")\n",
    "else:\n",
    "    device = torch.device(\"cpu\")\n",
    "    print(\"MPS is not available, using CPU.\")\n",
    "\n"
   ],
   "id": "8465188f29dab0c7",
   "outputs": [],
   "execution_count": 54
  },
  {
   "metadata": {
    "ExecuteTime": {
     "end_time": "2024-12-20T03:28:38.732189Z",
     "start_time": "2024-12-20T03:28:38.721202Z"
    }
   },
   "cell_type": "code",
   "source": [
    "env = gymnasium.make(environment_name)\n",
    "env = DummyVecEnv([lambda: env])\n",
    "model = PPO('MlpPolicy', env, verbose=1, tensorboard_log=log_path, device=device)"
   ],
   "id": "7372fca2c8e99cb1",
   "outputs": [
    {
     "name": "stdout",
     "output_type": "stream",
     "text": [
      "Using mps device\n"
     ]
    }
   ],
   "execution_count": 55
  },
  {
   "metadata": {
    "ExecuteTime": {
     "end_time": "2024-12-20T03:30:01.274827Z",
     "start_time": "2024-12-20T03:28:38.791608Z"
    }
   },
   "cell_type": "code",
   "source": "model.learn(total_timesteps=20000)",
   "id": "9e0066099b1dd138",
   "outputs": [
    {
     "name": "stdout",
     "output_type": "stream",
     "text": [
      "Logging to Training/Logs/PPO_3\n",
      "-----------------------------\n",
      "| time/              |      |\n",
      "|    fps             | 401  |\n",
      "|    iterations      | 1    |\n",
      "|    time_elapsed    | 5    |\n",
      "|    total_timesteps | 2048 |\n",
      "-----------------------------\n",
      "-----------------------------------------\n",
      "| time/                   |             |\n",
      "|    fps                  | 311         |\n",
      "|    iterations           | 2           |\n",
      "|    time_elapsed         | 13          |\n",
      "|    total_timesteps      | 4096        |\n",
      "| train/                  |             |\n",
      "|    approx_kl            | 0.009432666 |\n",
      "|    clip_fraction        | 0.115       |\n",
      "|    clip_range           | 0.2         |\n",
      "|    entropy_loss         | -0.685      |\n",
      "|    explained_variance   | 0.000331    |\n",
      "|    learning_rate        | 0.0003      |\n",
      "|    loss                 | 8.01        |\n",
      "|    n_updates            | 10          |\n",
      "|    policy_gradient_loss | -0.0192     |\n",
      "|    value_loss           | 54.9        |\n",
      "-----------------------------------------\n",
      "-----------------------------------------\n",
      "| time/                   |             |\n",
      "|    fps                  | 294         |\n",
      "|    iterations           | 3           |\n",
      "|    time_elapsed         | 20          |\n",
      "|    total_timesteps      | 6144        |\n",
      "| train/                  |             |\n",
      "|    approx_kl            | 0.010737218 |\n",
      "|    clip_fraction        | 0.0643      |\n",
      "|    clip_range           | 0.2         |\n",
      "|    entropy_loss         | -0.666      |\n",
      "|    explained_variance   | 0.0161      |\n",
      "|    learning_rate        | 0.0003      |\n",
      "|    loss                 | 9.9         |\n",
      "|    n_updates            | 20          |\n",
      "|    policy_gradient_loss | -0.0185     |\n",
      "|    value_loss           | 31.6        |\n",
      "-----------------------------------------\n",
      "-----------------------------------------\n",
      "| time/                   |             |\n",
      "|    fps                  | 286         |\n",
      "|    iterations           | 4           |\n",
      "|    time_elapsed         | 28          |\n",
      "|    total_timesteps      | 8192        |\n",
      "| train/                  |             |\n",
      "|    approx_kl            | 0.009574729 |\n",
      "|    clip_fraction        | 0.128       |\n",
      "|    clip_range           | 0.2         |\n",
      "|    entropy_loss         | -0.632      |\n",
      "|    explained_variance   | 0.306       |\n",
      "|    learning_rate        | 0.0003      |\n",
      "|    loss                 | 19.9        |\n",
      "|    n_updates            | 30          |\n",
      "|    policy_gradient_loss | -0.0269     |\n",
      "|    value_loss           | 44.7        |\n",
      "-----------------------------------------\n",
      "------------------------------------------\n",
      "| time/                   |              |\n",
      "|    fps                  | 283          |\n",
      "|    iterations           | 5            |\n",
      "|    time_elapsed         | 36           |\n",
      "|    total_timesteps      | 10240        |\n",
      "| train/                  |              |\n",
      "|    approx_kl            | 0.0067783166 |\n",
      "|    clip_fraction        | 0.0625       |\n",
      "|    clip_range           | 0.2          |\n",
      "|    entropy_loss         | -0.611       |\n",
      "|    explained_variance   | 0.288        |\n",
      "|    learning_rate        | 0.0003       |\n",
      "|    loss                 | 19.6         |\n",
      "|    n_updates            | 40           |\n",
      "|    policy_gradient_loss | -0.0172      |\n",
      "|    value_loss           | 64.5         |\n",
      "------------------------------------------\n",
      "-----------------------------------------\n",
      "| time/                   |             |\n",
      "|    fps                  | 281         |\n",
      "|    iterations           | 6           |\n",
      "|    time_elapsed         | 43          |\n",
      "|    total_timesteps      | 12288       |\n",
      "| train/                  |             |\n",
      "|    approx_kl            | 0.007458971 |\n",
      "|    clip_fraction        | 0.0737      |\n",
      "|    clip_range           | 0.2         |\n",
      "|    entropy_loss         | -0.594      |\n",
      "|    explained_variance   | 0.434       |\n",
      "|    learning_rate        | 0.0003      |\n",
      "|    loss                 | 18.6        |\n",
      "|    n_updates            | 50          |\n",
      "|    policy_gradient_loss | -0.0131     |\n",
      "|    value_loss           | 62.6        |\n",
      "-----------------------------------------\n",
      "-----------------------------------------\n",
      "| time/                   |             |\n",
      "|    fps                  | 271         |\n",
      "|    iterations           | 7           |\n",
      "|    time_elapsed         | 52          |\n",
      "|    total_timesteps      | 14336       |\n",
      "| train/                  |             |\n",
      "|    approx_kl            | 0.005336309 |\n",
      "|    clip_fraction        | 0.0554      |\n",
      "|    clip_range           | 0.2         |\n",
      "|    entropy_loss         | -0.581      |\n",
      "|    explained_variance   | 0.542       |\n",
      "|    learning_rate        | 0.0003      |\n",
      "|    loss                 | 24.2        |\n",
      "|    n_updates            | 60          |\n",
      "|    policy_gradient_loss | -0.0139     |\n",
      "|    value_loss           | 58.8        |\n",
      "-----------------------------------------\n",
      "-----------------------------------------\n",
      "| time/                   |             |\n",
      "|    fps                  | 261         |\n",
      "|    iterations           | 8           |\n",
      "|    time_elapsed         | 62          |\n",
      "|    total_timesteps      | 16384       |\n",
      "| train/                  |             |\n",
      "|    approx_kl            | 0.008810049 |\n",
      "|    clip_fraction        | 0.101       |\n",
      "|    clip_range           | 0.2         |\n",
      "|    entropy_loss         | -0.586      |\n",
      "|    explained_variance   | 0.665       |\n",
      "|    learning_rate        | 0.0003      |\n",
      "|    loss                 | 9.62        |\n",
      "|    n_updates            | 70          |\n",
      "|    policy_gradient_loss | -0.0122     |\n",
      "|    value_loss           | 43.5        |\n",
      "-----------------------------------------\n",
      "-----------------------------------------\n",
      "| time/                   |             |\n",
      "|    fps                  | 256         |\n",
      "|    iterations           | 9           |\n",
      "|    time_elapsed         | 71          |\n",
      "|    total_timesteps      | 18432       |\n",
      "| train/                  |             |\n",
      "|    approx_kl            | 0.007247198 |\n",
      "|    clip_fraction        | 0.0843      |\n",
      "|    clip_range           | 0.2         |\n",
      "|    entropy_loss         | -0.567      |\n",
      "|    explained_variance   | 0.746       |\n",
      "|    learning_rate        | 0.0003      |\n",
      "|    loss                 | 12.9        |\n",
      "|    n_updates            | 80          |\n",
      "|    policy_gradient_loss | -0.00969    |\n",
      "|    value_loss           | 47.8        |\n",
      "-----------------------------------------\n",
      "------------------------------------------\n",
      "| time/                   |              |\n",
      "|    fps                  | 256          |\n",
      "|    iterations           | 10           |\n",
      "|    time_elapsed         | 79           |\n",
      "|    total_timesteps      | 20480        |\n",
      "| train/                  |              |\n",
      "|    approx_kl            | 0.0068818023 |\n",
      "|    clip_fraction        | 0.105        |\n",
      "|    clip_range           | 0.2          |\n",
      "|    entropy_loss         | -0.567       |\n",
      "|    explained_variance   | 0.756        |\n",
      "|    learning_rate        | 0.0003       |\n",
      "|    loss                 | 12.2         |\n",
      "|    n_updates            | 90           |\n",
      "|    policy_gradient_loss | -0.0147      |\n",
      "|    value_loss           | 43.6         |\n",
      "------------------------------------------\n"
     ]
    },
    {
     "data": {
      "text/plain": [
       "<stable_baselines3.ppo.ppo.PPO at 0x16a102420>"
      ]
     },
     "execution_count": 56,
     "metadata": {},
     "output_type": "execute_result"
    }
   ],
   "execution_count": 56
  },
  {
   "metadata": {},
   "cell_type": "markdown",
   "source": "# 5. Save Model & Load Model",
   "id": "f5fe05b6eaf35118"
  },
  {
   "metadata": {
    "ExecuteTime": {
     "end_time": "2024-12-20T03:30:01.340627Z",
     "start_time": "2024-12-20T03:30:01.338807Z"
    }
   },
   "cell_type": "code",
   "source": "PPO_path = os.path.join('Training', 'Saved Models', 'PPO_model_CartPole')",
   "id": "40778161c891ca5d",
   "outputs": [],
   "execution_count": 57
  },
  {
   "metadata": {
    "ExecuteTime": {
     "end_time": "2024-12-20T03:30:01.362580Z",
     "start_time": "2024-12-20T03:30:01.348063Z"
    }
   },
   "cell_type": "code",
   "source": "model.save(PPO_path)",
   "id": "3cd944054becb133",
   "outputs": [],
   "execution_count": 58
  },
  {
   "metadata": {
    "ExecuteTime": {
     "end_time": "2024-12-20T03:30:01.368184Z",
     "start_time": "2024-12-20T03:30:01.366835Z"
    }
   },
   "cell_type": "code",
   "source": "del model",
   "id": "f57aa76107431949",
   "outputs": [],
   "execution_count": 59
  },
  {
   "metadata": {
    "ExecuteTime": {
     "end_time": "2024-12-20T03:30:01.380340Z",
     "start_time": "2024-12-20T03:30:01.371901Z"
    }
   },
   "cell_type": "code",
   "source": "model = PPO.load(PPO_path, env=env)",
   "id": "d74dd9f4f1e8b8cd",
   "outputs": [],
   "execution_count": 60
  },
  {
   "metadata": {},
   "cell_type": "markdown",
   "source": "# 6. Evaluate",
   "id": "8ded61735ea84195"
  },
  {
   "metadata": {
    "ExecuteTime": {
     "end_time": "2024-12-20T03:30:01.386197Z",
     "start_time": "2024-12-20T03:30:01.384832Z"
    }
   },
   "cell_type": "code",
   "source": "",
   "id": "9f3337fb9f45288d",
   "outputs": [],
   "execution_count": null
  }
 ],
 "metadata": {
  "kernelspec": {
   "display_name": "Python 3",
   "language": "python",
   "name": "python3"
  },
  "language_info": {
   "codemirror_mode": {
    "name": "ipython",
    "version": 2
   },
   "file_extension": ".py",
   "mimetype": "text/x-python",
   "name": "python",
   "nbconvert_exporter": "python",
   "pygments_lexer": "ipython2",
   "version": "2.7.6"
  }
 },
 "nbformat": 4,
 "nbformat_minor": 5
}
